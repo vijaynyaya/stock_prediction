{
 "cells": [
  {
   "cell_type": "markdown",
   "id": "dffec3ec",
   "metadata": {},
   "source": [
    "# Predicting Price Direction (Up/Down)"
   ]
  },
  {
   "cell_type": "markdown",
   "id": "35e3eb62",
   "metadata": {},
   "source": [
    "## Farming the Classification Problem"
   ]
  },
  {
   "cell_type": "markdown",
   "id": "c0a54a0a",
   "metadata": {},
   "source": [
    "### Load Data"
   ]
  },
  {
   "cell_type": "code",
   "execution_count": 1,
   "id": "cbd1dbe2",
   "metadata": {},
   "outputs": [
    {
     "data": {
      "text/html": [
       "<div>\n",
       "<style scoped>\n",
       "    .dataframe tbody tr th:only-of-type {\n",
       "        vertical-align: middle;\n",
       "    }\n",
       "\n",
       "    .dataframe tbody tr th {\n",
       "        vertical-align: top;\n",
       "    }\n",
       "\n",
       "    .dataframe thead th {\n",
       "        text-align: right;\n",
       "    }\n",
       "</style>\n",
       "<table border=\"1\" class=\"dataframe\">\n",
       "  <thead>\n",
       "    <tr style=\"text-align: right;\">\n",
       "      <th></th>\n",
       "      <th>symbol</th>\n",
       "      <th>date</th>\n",
       "      <th>open</th>\n",
       "      <th>high</th>\n",
       "      <th>low</th>\n",
       "      <th>close</th>\n",
       "      <th>volume</th>\n",
       "      <th>daily_return</th>\n",
       "      <th>ma_5</th>\n",
       "      <th>volatility_10</th>\n",
       "      <th>volume_spike</th>\n",
       "      <th>day_of_week</th>\n",
       "      <th>lag_close_1</th>\n",
       "      <th>hl_range</th>\n",
       "      <th>next_day_close</th>\n",
       "      <th>price_up</th>\n",
       "    </tr>\n",
       "  </thead>\n",
       "  <tbody>\n",
       "    <tr>\n",
       "      <th>0</th>\n",
       "      <td>V</td>\n",
       "      <td>2021-01-15</td>\n",
       "      <td>201.54</td>\n",
       "      <td>203.26</td>\n",
       "      <td>200.43</td>\n",
       "      <td>201.59</td>\n",
       "      <td>8755049.0</td>\n",
       "      <td>0.000248</td>\n",
       "      <td>206.910</td>\n",
       "      <td>5.488712</td>\n",
       "      <td>0.972412</td>\n",
       "      <td>4</td>\n",
       "      <td>201.86</td>\n",
       "      <td>0.014120</td>\n",
       "      <td>201.66</td>\n",
       "      <td>1</td>\n",
       "    </tr>\n",
       "    <tr>\n",
       "      <th>1</th>\n",
       "      <td>V</td>\n",
       "      <td>2021-01-19</td>\n",
       "      <td>203.05</td>\n",
       "      <td>204.17</td>\n",
       "      <td>200.07</td>\n",
       "      <td>201.66</td>\n",
       "      <td>9772034.0</td>\n",
       "      <td>-0.006846</td>\n",
       "      <td>204.664</td>\n",
       "      <td>5.603219</td>\n",
       "      <td>1.030051</td>\n",
       "      <td>1</td>\n",
       "      <td>201.59</td>\n",
       "      <td>0.020493</td>\n",
       "      <td>206.01</td>\n",
       "      <td>1</td>\n",
       "    </tr>\n",
       "    <tr>\n",
       "      <th>2</th>\n",
       "      <td>V</td>\n",
       "      <td>2021-01-20</td>\n",
       "      <td>203.03</td>\n",
       "      <td>207.19</td>\n",
       "      <td>202.23</td>\n",
       "      <td>206.01</td>\n",
       "      <td>12675730.0</td>\n",
       "      <td>0.014678</td>\n",
       "      <td>204.094</td>\n",
       "      <td>5.357649</td>\n",
       "      <td>1.248132</td>\n",
       "      <td>2</td>\n",
       "      <td>201.66</td>\n",
       "      <td>0.024527</td>\n",
       "      <td>205.14</td>\n",
       "      <td>0</td>\n",
       "    </tr>\n",
       "    <tr>\n",
       "      <th>3</th>\n",
       "      <td>V</td>\n",
       "      <td>2021-01-21</td>\n",
       "      <td>206.05</td>\n",
       "      <td>207.17</td>\n",
       "      <td>204.75</td>\n",
       "      <td>205.14</td>\n",
       "      <td>6517948.0</td>\n",
       "      <td>-0.004416</td>\n",
       "      <td>203.252</td>\n",
       "      <td>5.225082</td>\n",
       "      <td>0.643961</td>\n",
       "      <td>3</td>\n",
       "      <td>206.01</td>\n",
       "      <td>0.011819</td>\n",
       "      <td>202.02</td>\n",
       "      <td>0</td>\n",
       "    </tr>\n",
       "    <tr>\n",
       "      <th>4</th>\n",
       "      <td>V</td>\n",
       "      <td>2021-01-22</td>\n",
       "      <td>203.99</td>\n",
       "      <td>205.33</td>\n",
       "      <td>201.80</td>\n",
       "      <td>202.02</td>\n",
       "      <td>7316201.0</td>\n",
       "      <td>-0.009657</td>\n",
       "      <td>203.284</td>\n",
       "      <td>5.009405</td>\n",
       "      <td>0.812244</td>\n",
       "      <td>4</td>\n",
       "      <td>205.14</td>\n",
       "      <td>0.017493</td>\n",
       "      <td>200.98</td>\n",
       "      <td>0</td>\n",
       "    </tr>\n",
       "  </tbody>\n",
       "</table>\n",
       "</div>"
      ],
      "text/plain": [
       "  symbol        date    open  ...  hl_range  next_day_close  price_up\n",
       "0      V  2021-01-15  201.54  ...  0.014120          201.66         1\n",
       "1      V  2021-01-19  203.05  ...  0.020493          206.01         1\n",
       "2      V  2021-01-20  203.03  ...  0.024527          205.14         0\n",
       "3      V  2021-01-21  206.05  ...  0.011819          202.02         0\n",
       "4      V  2021-01-22  203.99  ...  0.017493          200.98         0\n",
       "\n",
       "[5 rows x 16 columns]"
      ]
     },
     "execution_count": 1,
     "metadata": {},
     "output_type": "execute_result"
    }
   ],
   "source": [
    "import pandas as pd\n",
    "\n",
    "TICKER = \"V\"\n",
    "# load data\n",
    "df = pd.read_csv(\"../data/stock_features.csv\")\n",
    "df = df[df[\"symbol\"] == TICKER]\n",
    "df = df.dropna().reset_index(drop=True)\n",
    "\n",
    "df.head(5)"
   ]
  },
  {
   "cell_type": "markdown",
   "id": "6ffebbd0",
   "metadata": {},
   "source": [
    "### Prepare data for modelling\n",
    "#### Should we include symbol as a feature?\n",
    "Including the ticker as a feature helps the model differentiate between stocks, which is important when training a single model across multiple assets. While training separate models can better capture ticker-specific behavior, it’s less scalable and data-efficient. The hybrid approach—using one model with ticker as a feature—offers a practical trade-off between specialization and generalization. A feature importance analysis at the end revealed that the symbol does not make much of a difference. Hence, I chose to exclude it.\n"
   ]
  },
  {
   "cell_type": "code",
   "execution_count": 15,
   "id": "7927043b",
   "metadata": {},
   "outputs": [],
   "source": [
    "from sklearn.model_selection import train_test_split\n",
    "\n",
    "feature_columns = [\n",
    "    \"daily_return\", \"ma_5\", \"volatility_10\", \"volume_spike\",\n",
    "    \"day_of_week\", \"lag_close_1\", \"hl_range\"\n",
    "]\n",
    "\n",
    "X = df[feature_columns]\n",
    "y = df[\"price_up\"]\n",
    "\n",
    "X_train, X_test, y_train, y_test = train_test_split(X, y, train_size=0.8, random_state=3256)"
   ]
  },
  {
   "cell_type": "markdown",
   "id": "172358e0",
   "metadata": {},
   "source": [
    "### Model Selection\n",
    "I've implemented three different models for comparision:\n",
    "1. Logistic Regression (simple baseline model)\n",
    "2. Random Forest (good at handling non-linearities)\n",
    "3. Gradient Boosting (often achieves state-of-the-art performance)"
   ]
  },
  {
   "cell_type": "code",
   "execution_count": 16,
   "id": "69c87508",
   "metadata": {},
   "outputs": [],
   "source": [
    "from sklearn.pipeline import Pipeline\n",
    "from sklearn.preprocessing import StandardScaler, OneHotEncoder\n",
    "from sklearn.compose import ColumnTransformer\n",
    "from sklearn.linear_model import LogisticRegression\n",
    "from sklearn.ensemble import RandomForestClassifier, GradientBoostingClassifier\n",
    "\n",
    "preprocessor = ColumnTransformer(transformers=[\n",
    "    (\"num\", StandardScaler(), feature_columns),\n",
    "    ('cat', OneHotEncoder(handle_unknown='ignore'), [\"symbol\"])\n",
    "])\n",
    "\n",
    "pipelines = {\n",
    "    \"Logistic Regression\": Pipeline([\n",
    "        (\"scaler\", StandardScaler()),\n",
    "        # (\"preprocessor\", preprocessor),\n",
    "        (\"model\", LogisticRegression(max_iter=1000, random_state=3256))\n",
    "    ]),\n",
    "    \"Random Forest\": Pipeline([\n",
    "        # (\"preprocessor\", preprocessor),\n",
    "        (\"scaler\", StandardScaler()),\n",
    "        (\"model\", RandomForestClassifier(n_estimators=100, random_state=3256))\n",
    "    ]),\n",
    "    \"Gradient Boosting\": Pipeline([\n",
    "        # (\"preprocessor\", preprocessor),\n",
    "        (\"scaler\", StandardScaler()),\n",
    "        (\"model\", GradientBoostingClassifier(n_estimators=100, random_state=3256))\n",
    "    ])\n",
    "}"
   ]
  },
  {
   "cell_type": "code",
   "execution_count": 17,
   "id": "1ec908f4",
   "metadata": {},
   "outputs": [
    {
     "name": "stdout",
     "output_type": "stream",
     "text": [
      "\n",
      "Logistic Regression Results:\n",
      "Accuracy: 0.5519\n",
      "              precision    recall  f1-score   support\n",
      "\n",
      "           0       0.50      0.17      0.25        95\n",
      "           1       0.56      0.86      0.68       117\n",
      "\n",
      "    accuracy                           0.55       212\n",
      "   macro avg       0.53      0.52      0.47       212\n",
      "weighted avg       0.53      0.55      0.49       212\n",
      "\n",
      "\n",
      "Random Forest Results:\n",
      "Accuracy: 0.4811\n",
      "              precision    recall  f1-score   support\n",
      "\n",
      "           0       0.41      0.36      0.38        95\n",
      "           1       0.53      0.58      0.55       117\n",
      "\n",
      "    accuracy                           0.48       212\n",
      "   macro avg       0.47      0.47      0.47       212\n",
      "weighted avg       0.47      0.48      0.48       212\n",
      "\n",
      "\n",
      "Gradient Boosting Results:\n",
      "Accuracy: 0.5000\n",
      "              precision    recall  f1-score   support\n",
      "\n",
      "           0       0.43      0.34      0.38        95\n",
      "           1       0.54      0.63      0.58       117\n",
      "\n",
      "    accuracy                           0.50       212\n",
      "   macro avg       0.48      0.48      0.48       212\n",
      "weighted avg       0.49      0.50      0.49       212\n",
      "\n",
      "\n",
      "Best model based on F1 score: Logistic Regression\n"
     ]
    }
   ],
   "source": [
    "from sklearn.metrics import classification_report, accuracy_score, precision_recall_fscore_support\n",
    "\n",
    "results = dict()\n",
    "for name, pipeline in pipelines.items():\n",
    "    pipeline.fit(X_train, y_train)\n",
    "    y_pred = pipeline.predict(X_test)\n",
    "\n",
    "    accuracy = accuracy_score(y_test, y_pred)\n",
    "    precision, recall, f1, _ = precision_recall_fscore_support(\n",
    "        y_test, y_pred, average=\"binary\"\n",
    "    )\n",
    "\n",
    "    results[name] = {\n",
    "        'accuracy': accuracy,\n",
    "        'precision': precision,\n",
    "        'recall': recall,\n",
    "        'f1': f1\n",
    "    }\n",
    "    \n",
    "    print(f\"\\n{name} Results:\")\n",
    "    print(f\"Accuracy: {accuracy:.4f}\")\n",
    "    print(classification_report(y_test, y_pred))\n",
    "\n",
    "# Find the best model\n",
    "best_model_name = max(results, key=lambda x: results[x]['f1'])\n",
    "best_model = pipelines[best_model_name]\n",
    "\n",
    "print(f\"\\nBest model based on F1 score: {best_model_name}\")"
   ]
  },
  {
   "cell_type": "code",
   "execution_count": 18,
   "id": "44a5a3b4",
   "metadata": {},
   "outputs": [
    {
     "data": {
      "text/plain": [
       "['../data/model.pkl']"
      ]
     },
     "execution_count": 18,
     "metadata": {},
     "output_type": "execute_result"
    }
   ],
   "source": [
    "import joblib\n",
    "\n",
    "joblib.dump(best_model, f\"../data/model.pkl\")\n"
   ]
  },
  {
   "cell_type": "markdown",
   "id": "f6152c1a",
   "metadata": {},
   "source": [
    "## Feature Imporatance \n",
    "Seems like the symbol does not make much of a difference to our models"
   ]
  },
  {
   "cell_type": "code",
   "execution_count": 14,
   "id": "0592a9ab",
   "metadata": {},
   "outputs": [
    {
     "data": {
      "image/png": "[encoded data removed]",
      "text/plain": [
       "<Figure size 1600x600 with 2 Axes>"
      ]
     },
     "metadata": {},
     "output_type": "display_data"
    }
   ],
   "source": [
    "import matplotlib.pyplot as plt\n",
    "import numpy as np\n",
    "\n",
    "fig, axes = plt.subplots(1, 2, figsize=(16, 6)) \n",
    "\n",
    "for ax, model_name in zip(axes, [\"Random Forest\", \"Gradient Boosting\"]):\n",
    "    importances = pipelines[model_name].named_steps[\"model\"].feature_importances_\n",
    "    indices = np.argsort(importances)[::-1]\n",
    "    \n",
    "    ax.set_title(f\"Feature Importances ({model_name})\")\n",
    "    ax.bar(range(X.shape[1]), importances[indices], align=\"center\")\n",
    "    ax.set_xticks(range(X.shape[1]), [(feature_columns + [\"symbol\"])[i] for i in indices], rotation=90)\n",
    "plt.tight_layout()\n",
    "plt.show()"
   ]
  }
 ],
 "metadata": {
  "kernelspec": {
   "display_name": ".venv",
   "language": "python",
   "name": "python3"
  },
  "language_info": {
   "codemirror_mode": {
    "name": "ipython",
    "version": 3
   },
   "file_extension": ".py",
   "mimetype": "text/x-python",
   "name": "python",
   "nbconvert_exporter": "python",
   "pygments_lexer": "ipython3",
   "version": "3.12.9"
  }
 },
 "nbformat": 4,
 "nbformat_minor": 5
}
